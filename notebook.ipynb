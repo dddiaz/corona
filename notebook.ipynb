{
 "cells": [
  {
   "cell_type": "markdown",
   "metadata": {},
   "source": [
    "# Covid-19 Genome Analysis Repository\n",
    "\n",
    "## GOAL: Download and analyze the coronovirus genome.\n",
    "https://www.ncbi.nlm.nih.gov/genbank/sars-cov-2-seqs/\n",
    "\n",
    "#### Inspiration:\n",
    "https://blog.floydhub.com/exploring-dna-with-deep-learning/"
   ]
  },
  {
   "cell_type": "markdown",
   "metadata": {
    "pycharm": {
     "name": "#%% md\n"
    }
   },
   "source": [
    "## Connect to NCBI Database and get a list of genome ids based on a particular search"
   ]
  },
  {
   "cell_type": "code",
   "execution_count": 1,
   "metadata": {
    "pycharm": {
     "name": "#%%\n"
    }
   },
   "outputs": [],
   "source": [
    "from Bio import Entrez\n",
    "from Bio import SeqIO\n",
    "import os\n",
    "import re\n",
    "from sklearn.preprocessing import OneHotEncoder\n",
    "from sklearn.preprocessing import LabelEncoder\n",
    "import numpy as np\n",
    "import matplotlib.cm as cm\n",
    "import matplotlib.pyplot as plt"
   ]
  },
  {
   "cell_type": "markdown",
   "metadata": {
    "pycharm": {
     "name": "#%% md\n"
    }
   },
   "source": [
    "##  Search NCBI Data Online\n",
    "Manually compile a list of genome ids we will use."
   ]
  },
  {
   "cell_type": "code",
   "execution_count": 2,
   "metadata": {
    "pycharm": {
     "name": "#%%\n"
    }
   },
   "outputs": [],
   "source": [
    "Entrez.email = \"daniel.delvin.diaz+ncbi@gmail.com\"  # Always tell NCBI who you are\n",
    "\n",
    "# List of genomes\n",
    "# MN908947 -> Ref Genome\n",
    "genbank_ids = ['MN908947', 'LC534418.1', 'MN985325.1', 'MN988713.1']"
   ]
  },
  {
   "cell_type": "markdown",
   "metadata": {
    "pycharm": {
     "name": "#%% md\n"
    }
   },
   "source": [
    "## Print out one of the results so we can inspect it."
   ]
  },
  {
   "cell_type": "code",
   "execution_count": 3,
   "metadata": {
    "pycharm": {
     "name": "#%%\n"
    }
   },
   "outputs": [],
   "source": [
    "# Ref Genome: NC_045512\n",
    "for g in genbank_ids:\n",
    "    handle = Entrez.efetch(db=\"nucleotide\", id=g, rettype=\"gb\", retmode=\"text\")\n",
    "    text = handle.read()\n",
    "    # print(text)\n",
    "    assert text is not None\n",
    "    break"
   ]
  },
  {
   "cell_type": "markdown",
   "metadata": {},
   "source": [
    "## Download all the genomes from our search and store them as .gb files."
   ]
  },
  {
   "cell_type": "code",
   "execution_count": 4,
   "metadata": {
    "pycharm": {
     "name": "#%%\n"
    }
   },
   "outputs": [
    {
     "name": "stdout",
     "output_type": "stream",
     "text": [
      "Skipping:/Users/ddiaz/src/corona/generated/genBankRecord_MN908947.gb\n",
      "Skipping:/Users/ddiaz/src/corona/generated/genBankRecord_LC534418.1.gb\n",
      "Skipping:/Users/ddiaz/src/corona/generated/genBankRecord_MN985325.1.gb\n",
      "Skipping:/Users/ddiaz/src/corona/generated/genBankRecord_MN988713.1.gb\n"
     ]
    }
   ],
   "source": [
    "######################################\n",
    "# Download Genomes\n",
    "######################################\n",
    "\n",
    "count = 0\n",
    "for genome_id in genbank_ids:\n",
    "    filename = f'{os.path.abspath(\".\")}/generated/genBankRecord_{genome_id}.gb'\n",
    "    # Lets not download the genome if we already have it.\n",
    "    if os.path.isfile(filename):\n",
    "        print('Skipping:{}'.format(filename))\n",
    "        continue\n",
    "\n",
    "    record = Entrez.efetch(db=\"nucleotide\", id=genome_id, rettype=\"gb\", retmode=\"text\")\n",
    "\n",
    "    print('Writing:{}'.format(filename))\n",
    "    with open(filename, 'w') as f:\n",
    "        f.write(record.read())\n",
    "    # Im noticing some really wonky file permissions with jupyter notebook and pycharm\n",
    "    # going to force it to be this:\n",
    "    # Dont forget this is python3 specific syntax\n",
    "    os.chmod(filename, 0o666)\n"
   ]
  },
  {
   "cell_type": "markdown",
   "metadata": {},
   "source": [
    "## Download ref genome for sars-covid-2\n",
    "## Which btw was made with an Illumina Genome Sequencer! :) Nice"
   ]
  },
  {
   "cell_type": "code",
   "execution_count": 5,
   "metadata": {
    "pycharm": {
     "name": "#%%\n"
    }
   },
   "outputs": [],
   "source": [
    "######################################\n",
    "# Download Ref Genome\n",
    "######################################\n",
    "def download_ref_genome():\n",
    "    Entrez.email = \"daniel.delvin.diaz+ncbi@gmail.com\"  # Always tell NCBI who you are\n",
    "    record = Entrez.efetch(db=\"nucleotide\", id=\"MN908947\", rettype=\"gb\", retmode=\"text\")\n",
    "    filename = f'{os.path.abspath(\".\")}/ref_genome/genBankRecord_ref.gb'\n",
    "    with open(filename, 'w') as f:\n",
    "        content = record.read()\n",
    "        f.write(content)\n",
    "    print('File Written:{}'.format(filename))\n",
    "\n",
    "# Note I have noticed a weird behavior with pycharm + jupyter notebook where you wont see the\n",
    "# file locally unless you click out of pycharm then back in.\n",
    "\n",
    "# download_ref_genome()\n"
   ]
  },
  {
   "cell_type": "markdown",
   "source": [
    "## Load Genome Functions"
   ],
   "metadata": {
    "collapsed": false
   }
  },
  {
   "cell_type": "code",
   "execution_count": 6,
   "outputs": [],
   "source": [
    "def load_ref_genome():\n",
    "    ref_genome_path = f\"{os.path.abspath('.')}/ref_genome/genBankRecord_ref.gb\"\n",
    "    ref_genome_seq = None\n",
    "    for seq_record in SeqIO.parse(\"./ref_genome/genBankRecord_ref.gb\", \"genbank\"):\n",
    "        ref_genome_seq = seq_record.seq\n",
    "    return ref_genome_seq"
   ],
   "metadata": {
    "collapsed": false,
    "pycharm": {
     "name": "#%%\n"
    }
   }
  },
  {
   "cell_type": "code",
   "execution_count": 7,
   "outputs": [],
   "source": [
    "# Generic Load Functions\n",
    "def load_genomes(folder_path=os.path.abspath('.')+\"/generated/\"):\n",
    "    f = []\n",
    "    print(f\"Using folder {folder_path} to load genomes\")\n",
    "    for (root, dirnames, filenames) in os.walk(folder_path):\n",
    "        for filename in filenames:\n",
    "            f.append(os.path.join(root,filename))\n",
    "    genomes = []\n",
    "    for genome_file in f:\n",
    "        print(f\"Getting genome from file {genome_file}\")\n",
    "        for seq_record in SeqIO.parse(genome_file, \"genbank\"):\n",
    "            genome_seq = str(seq_record.seq)\n",
    "            # Lets assume theres one genome per file\n",
    "            genomes.append(genome_seq)\n",
    "    return genomes"
   ],
   "metadata": {
    "collapsed": false,
    "pycharm": {
     "name": "#%%\n"
    }
   }
  },
  {
   "cell_type": "code",
   "execution_count": 8,
   "outputs": [],
   "source": [
    "def munged_genomes():\n",
    "    g = load_genomes()\n",
    "    ref_g = g[0]\n",
    "\n",
    "    munged_genomes = []\n",
    "    for genome in g:\n",
    "        if len(genome) < len(ref_g):\n",
    "            # Need to extend genome so len matches\n",
    "            m_genome = genome.ljust(len(ref_g), 'z')\n",
    "            munged_genomes.append(m_genome)\n",
    "        elif len(genome) > len(ref_g):\n",
    "            munged_genomes.append(genome[:len(ref_g)])\n",
    "        else:\n",
    "            munged_genomes.append(genome)\n",
    "\n",
    "    # Sanity Check\n",
    "    l = len(ref_g)\n",
    "    for x in munged_genomes:\n",
    "        assert len(x) == l\n",
    "\n",
    "    return munged_genomes"
   ],
   "metadata": {
    "collapsed": false,
    "pycharm": {
     "name": "#%%\n"
    }
   }
  },
  {
   "cell_type": "code",
   "execution_count": 9,
   "outputs": [
    {
     "name": "stdout",
     "output_type": "stream",
     "text": [
      "Using folder /Users/ddiaz/src/corona/generated/ to load genomes\n",
      "Getting genome from file /Users/ddiaz/src/corona/generated/genBankRecord_MN988713.1.gb\n",
      "Getting genome from file /Users/ddiaz/src/corona/generated/genBankRecord_MN908947.gb\n",
      "Getting genome from file /Users/ddiaz/src/corona/generated/genBankRecord_MN985325.1.gb\n",
      "Getting genome from file /Users/ddiaz/src/corona/generated/genBankRecord_LC534418.1.gb\n"
     ]
    }
   ],
   "source": [
    "# Compute the munged genome sequences\n",
    "munged_genome_sequences = munged_genomes()"
   ],
   "metadata": {
    "collapsed": false,
    "pycharm": {
     "name": "#%%\n"
    }
   }
  },
  {
   "cell_type": "markdown",
   "metadata": {
    "pycharm": {
     "name": "#%% md\n"
    }
   },
   "source": [
    "## Set up functions to transform the genome into its one-hot encoded form."
   ]
  },
  {
   "cell_type": "code",
   "execution_count": 10,
   "metadata": {
    "pycharm": {
     "name": "#%%\n"
    }
   },
   "outputs": [],
   "source": [
    "######################################\n",
    "# Setup One Hot Encoding Function\n",
    "######################################\n",
    "\n",
    "# One hot encode a DNA sequence string\n",
    "# non 'acgt' bases (n) are 0000\n",
    "# returns a L x 4 numpy array\n",
    "\n",
    "label_encoder = LabelEncoder()\n",
    "# z is also used when genomes are unequal in size.\n",
    "label_encoder.fit(np.array(['a','c','g','t','z']))\n",
    "# label_encoder.fit(np.array(['a','c','g','t']))\n",
    "\n",
    "def string_to_array(my_string):\n",
    "    my_string = my_string.lower()\n",
    "    my_string = re.sub('[^acgt]', 'z', my_string)\n",
    "    my_array = np.array(list(my_string))\n",
    "    return my_array\n",
    "\n",
    "def one_hot_encoder(my_array):\n",
    "    integer_encoded = label_encoder.transform(my_array)\n",
    "    # n_values is very important, it ensures all the ecoded genomes are nx5\n",
    "    # note: n_values was deprecated, have to use categories instead\n",
    "    # onehot_encoder = OneHotEncoder(sparse=False, dtype=int, categories=[range(5)])\n",
    "    onehot_encoder = OneHotEncoder(sparse=False, dtype=int, categories=[range(5)])\n",
    "    integer_encoded = integer_encoded.reshape(len(integer_encoded), 1)\n",
    "    onehot_encoded = onehot_encoder.fit_transform(integer_encoded)\n",
    "    onehot_encoded = np.delete(onehot_encoded, -1, 1)\n",
    "    return onehot_encoded\n",
    "\n",
    "\n"
   ]
  },
  {
   "cell_type": "code",
   "execution_count": 11,
   "metadata": {
    "pycharm": {
     "name": "#%%\n"
    }
   },
   "outputs": [],
   "source": [
    "# Test one hot encoder\n",
    "def test_one_hot_encoder():\n",
    "    test_sequence = 'AACGCGGTTNN'\n",
    "    test_sequence_hot = one_hot_encoder(string_to_array(test_sequence))\n",
    "    expected_sequence_hot =   [[1, 0, 0, 0],\n",
    "                               [1, 0, 0, 0],\n",
    "                               [0, 1, 0, 0],\n",
    "                               [0, 0, 1, 0],\n",
    "                               [0, 1, 0, 0],\n",
    "                               [0, 0, 1, 0],\n",
    "                               [0, 0, 1, 0],\n",
    "                               [0, 0, 0, 1],\n",
    "                               [0, 0, 0, 1],\n",
    "                               [0, 0, 0, 0],\n",
    "                               [0, 0, 0, 0]]\n",
    "\n",
    "    # Lets check this function is working as expected\n",
    "    assert np.array_equal(test_sequence_hot, expected_sequence_hot)"
   ]
  },
  {
   "cell_type": "code",
   "execution_count": 12,
   "outputs": [],
   "source": [
    "test_one_hot_encoder()\n"
   ],
   "metadata": {
    "collapsed": false,
    "pycharm": {
     "name": "#%%\n"
    }
   }
  },
  {
   "cell_type": "code",
   "execution_count": 13,
   "metadata": {
    "pycharm": {
     "name": "#%%\n"
    }
   },
   "outputs": [],
   "source": [
    "# r = ref_genome_seq[0:5]\n",
    "ref_seq_hot = one_hot_encoder(string_to_array(str(load_ref_genome())))\n",
    "\n",
    "# DEV Note: Because there are no unknown letters in the ref genome, the output hot encoding is only 3 positions instead of\n",
    "# 4 like in the test above.\n",
    "#print(r)\n",
    "# print(ref_seq_hot)"
   ]
  },
  {
   "cell_type": "markdown",
   "metadata": {
    "pycharm": {
     "name": "#%% md\n"
    }
   },
   "source": [
    "#### Quick note:\n",
    "Notice then above array is only 3 bits\n",
    "```text\n",
    "[1 0 0]\n",
    "A 1 in the first position means A.\n",
    "A 1 in the second position means C.\n",
    "A 1 in the third position means G.\n",
    "And all zeros means T\n",
    "```"
   ]
  },
  {
   "cell_type": "markdown",
   "metadata": {
    "pycharm": {
     "name": "#%% md\n"
    }
   },
   "source": [
    "## Let's create a generic function that does the genome load and one hot encoding"
   ]
  },
  {
   "cell_type": "code",
   "execution_count": 14,
   "metadata": {
    "pycharm": {
     "name": "#%%\n"
    }
   },
   "outputs": [],
   "source": [
    "def get_one_hot_genome_encoding(munged_genome_sequence):\n",
    "    \"\"\"\n",
    "    :returns A one hot encode genome\n",
    "    \"\"\"\n",
    "    genome_seq = str(munged_genome_sequence)\n",
    "    seq_hot = one_hot_encoder(string_to_array(genome_seq))\n",
    "    return seq_hot\n"
   ]
  },
  {
   "cell_type": "markdown",
   "metadata": {
    "pycharm": {
     "name": "#%% md\n"
    }
   },
   "source": [
    "## Lets get all the one hot encodings for the gb files we have"
   ]
  },
  {
   "cell_type": "code",
   "execution_count": 15,
   "metadata": {
    "pycharm": {
     "name": "#%%\n"
    }
   },
   "outputs": [],
   "source": [
    "def get_one_hot_genome_encodings(munged_genome_sequences):\n",
    "    result = []\n",
    "    for genome in munged_genome_sequences:\n",
    "        r = get_one_hot_genome_encoding(genome)\n",
    "        result.append(r)\n",
    "    return result"
   ]
  },
  {
   "cell_type": "code",
   "execution_count": 16,
   "outputs": [],
   "source": [
    "one_hot_encoded_genomes = get_one_hot_genome_encodings(munged_genome_sequences)\n",
    "\n",
    "# print(\"Array of one hot encoded genomes\")\n",
    "# print(one_hot_encoded_genomes)\n"
   ],
   "metadata": {
    "collapsed": false,
    "pycharm": {
     "name": "#%%\n"
    }
   }
  },
  {
   "cell_type": "markdown",
   "metadata": {
    "pycharm": {
     "name": "#%% md\n"
    }
   },
   "source": [
    "## Next step is to try and generate the mutation diagram\n",
    "- Each row will be an different seq"
   ]
  },
  {
   "cell_type": "code",
   "execution_count": 17,
   "metadata": {
    "pycharm": {
     "name": "#%% Test Data set\n"
    }
   },
   "outputs": [
    {
     "name": "stdout",
     "output_type": "stream",
     "text": [
      "[0, 0, 0]\n",
      "[0, 0, 1]\n",
      "[[0, 0, 0], [0, 0, 0], [0, 0, 1]]\n"
     ]
    },
    {
     "data": {
      "text/plain": "<Figure size 432x288 with 1 Axes>",
      "image/png": "[encoded data removed]"
     },
     "metadata": {
      "needs_background": "light"
     },
     "output_type": "display_data"
    }
   ],
   "source": [
    "# ACG\n",
    "g1_ref = [[1,0,0,0],[0,1,0,0],[0,0,1,0]]\n",
    "# ACG\n",
    "g2 = [[1,0,0,0],[0,1,0,0],[0,0,1,0]]\n",
    "# ACT\n",
    "# This one has a mutation in the 3rd letter\n",
    "g3 = [[1,0,0,0],[0,1,0,0],[0,0,0,1]]\n",
    "\n",
    "# Two options, we can either compare to the ref genome, or compare to an array that represents\n",
    "# the most common letter in that position\n",
    "\n",
    "# Lets start with the former, then move to the latter\n",
    "# A final zero bit (black) will be ref genome\n",
    "# A one (white) will be mutation from ref genome\n",
    "\n",
    "# X = np.random.random((100, 100)) # sample 2D array\n",
    "# plt.imshow(X, cmap=\"gray\")\n",
    "# plt.show()\n",
    "\n",
    "# this is our basline, all zeros\n",
    "genome_chart = [[0]*len(g1_ref)]\n",
    "# print(genome_chart)\n",
    "\n",
    "def compare(ref_genome, new_genome):\n",
    "    i = 0\n",
    "    result = []\n",
    "    for i in range(len(ref_genome)):\n",
    "        if np.array_equal(ref_genome[i], new_genome[i]):\n",
    "            result.append(0)\n",
    "        else:\n",
    "            result.append(1)\n",
    "    return result\n",
    "\n",
    "result1 = compare(g1_ref,g2)\n",
    "print(result1)\n",
    "result2 = compare(g1_ref,g3)\n",
    "print(result2)\n",
    "genome_chart.append(result1)\n",
    "genome_chart.append(result2)\n",
    "print(genome_chart)\n",
    "\n",
    "plt.imshow(genome_chart, cmap=\"gray\")\n",
    "plt.show()"
   ]
  },
  {
   "cell_type": "markdown",
   "metadata": {
    "pycharm": {
     "name": "#%% md\n"
    }
   },
   "source": [
    "## Ok let's pause.\n",
    "Above we created 3 sample genomes that were only 3 letters long. one was the ref genome.\n",
    "Only one genome had a mutation in the last position.\n",
    "So if we compare that to the chart, the top row is the ref genome, its all black becuase its the ref.\n",
    "THe bottom row is the mutated genome, with the last column, last row being white as thats were the mutation is.\n"
   ]
  },
  {
   "cell_type": "code",
   "execution_count": 18,
   "metadata": {
    "pycharm": {
     "name": "#%%\n"
    }
   },
   "outputs": [],
   "source": [
    "# Now lets do the same thing to the 3 genomes we have.\n",
    "g1 = ref_seq_hot\n",
    "gN = one_hot_encoded_genomes\n",
    "# imchart requires floats\n",
    "genome_chart = [[float(0)]*len(g1)]"
   ]
  },
  {
   "cell_type": "code",
   "execution_count": 19,
   "outputs": [],
   "source": [
    "def compare_with_fudging(ref_genome, new_genome):\n",
    "    # TODO: this func shouldnt be needed anymore cause we did some munging earlier\n",
    "    i = 0\n",
    "    result = []\n",
    "    for i in range(len(ref_genome)):\n",
    "        # check if arrays are equal, if not write a 1\n",
    "        # sometimes arrays arent equal. for now, lets just assume thats a mutation\n",
    "        try:\n",
    "            if np.array_equal(ref_genome[i], new_genome[i]):\n",
    "                result.append(float(0))\n",
    "        except IndexError:\n",
    "            result.append(float(1))\n",
    "        else:\n",
    "            result.append(float(1))\n",
    "    return result"
   ],
   "metadata": {
    "collapsed": false,
    "pycharm": {
     "name": "#%%\n"
    }
   }
  },
  {
   "cell_type": "code",
   "execution_count": 20,
   "outputs": [],
   "source": [
    "\n",
    "# for genome in gN:\n",
    "#     c = compare(gN[0], genome)\n",
    "#     genome_chart.append(c[:-500])\n",
    "#\n",
    "# plt.imshow(np.real(genome_chart), cmap=\"gray\", interpolation=\"nearest\", aspect='auto')\n",
    "# plt.show()\n",
    "pass\n",
    "\n",
    "\n"
   ],
   "metadata": {
    "collapsed": false,
    "pycharm": {
     "name": "#%%\n"
    }
   }
  },
  {
   "cell_type": "code",
   "execution_count": 21,
   "outputs": [
    {
     "data": {
      "text/plain": "<Figure size 432x288 with 1 Axes>",
      "image/png": "[encoded data removed]"
     },
     "metadata": {
      "needs_background": "light"
     },
     "output_type": "display_data"
    }
   ],
   "source": [
    "# lets skip the first loaded genome cause it has 5 bits of data instead of 4, will need to look into.\n",
    "for genome in gN[1:]:\n",
    "    c = compare_with_fudging(g1,genome)\n",
    "    genome_chart.append(c)\n",
    "\n",
    "# lets chop this array up to debug\n",
    "# for some reason i am getting a type error when i do the full array\n",
    "# genome_chart_debug = [genome_chart[0][:500], genome_chart[1][:500], genome_chart[2][:500]]\n",
    "genome_chart_debug = []\n",
    "for arr in genome_chart:\n",
    "    genome_chart_debug.append(arr[:250])\n",
    "\n",
    "#print(genome_chart_debug)\n",
    "\n",
    "# plt.figure(figsize = (80,1))\n",
    "plt.imshow(np.real(genome_chart_debug), cmap=\"gray\", interpolation=\"nearest\", aspect='auto')\n",
    "plt.show()"
   ],
   "metadata": {
    "collapsed": false,
    "pycharm": {
     "name": "#%%\n"
    }
   }
  },
  {
   "cell_type": "markdown",
   "metadata": {
    "pycharm": {
     "name": "#%% md\n"
    }
   },
   "source": [
    "Above you will see the first 500 genome letters. the black bar at the top obviously being the ref genome, and the black lines, representing mutations.\n",
    "Right now I am only using 3 genomes, and only a subset of the genome, so the chart still looks funky, and is not the checkerboard i was expecting.\n",
    "Also, I did not take into any consideration, actually aligning the genome. I also added some fudge factor for unequal genome lengths.\n",
    "\n",
    "\n",
    "TODO:\n",
    "Maybe instead of using genomes from the search results, hard code the ones I want to compare againsts."
   ]
  },
  {
   "cell_type": "markdown",
   "metadata": {},
   "source": [
    "## Possible improvements\n",
    "- im only comparing to the ref genome. it would probably be more interesting to derive the most common letter for that position, then label one wild, and one mutation.\n",
    "- if genomes arent equal in len , we just assume mutation, there should be a better way to go about this.\n",
    "\n",
    "Links:\n",
    "http://biopython.org/DIST/docs/tutorial/Tutorial.html#htoc132\n",
    "https://www.kaggle.com/thomasnelson/working-with-dna-sequence-data-for-ml\n"
   ]
  }
 ],
 "metadata": {
  "kernelspec": {
   "display_name": "Python 3",
   "language": "python",
   "name": "python3"
  },
  "language_info": {
   "codemirror_mode": {
    "name": "ipython",
    "version": 3
   },
   "file_extension": ".py",
   "mimetype": "text/x-python",
   "name": "python",
   "nbconvert_exporter": "python",
   "pygments_lexer": "ipython3",
   "version": "3.7.7"
  }
 },
 "nbformat": 4,
 "nbformat_minor": 1
}